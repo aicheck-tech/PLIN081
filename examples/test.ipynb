{
 "cells": [
  {
   "cell_type": "code",
   "id": "initial_id",
   "metadata": {
    "collapsed": true,
    "ExecuteTime": {
     "end_time": "2024-10-24T10:49:34.309102Z",
     "start_time": "2024-10-24T10:49:13.207794Z"
    }
   },
   "source": [
    "!pip install pandas\n",
    "import pandas as pd"
   ],
   "outputs": [
    {
     "name": "stdout",
     "output_type": "stream",
     "text": [
      "Collecting pandas\r\n",
      "  Obtaining dependency information for pandas from https://files.pythonhosted.org/packages/44/50/7db2cd5e6373ae796f0ddad3675268c8d59fb6076e66f0c339d61cea886b/pandas-2.2.3-cp310-cp310-manylinux_2_17_x86_64.manylinux2014_x86_64.whl.metadata\r\n",
      "  Downloading pandas-2.2.3-cp310-cp310-manylinux_2_17_x86_64.manylinux2014_x86_64.whl.metadata (89 kB)\r\n",
      "\u001B[2K     \u001B[90m━━━━━━━━━━━━━━━━━━━━━━━━━━━━━━━━━━━━━━━\u001B[0m \u001B[32m89.9/89.9 kB\u001B[0m \u001B[31m791.5 kB/s\u001B[0m eta \u001B[36m0:00:00\u001B[0m \u001B[36m0:00:01\u001B[0m\r\n",
      "\u001B[?25hRequirement already satisfied: numpy>=1.22.4 in /home/jrygl/PycharmProjects/sap-interview/.venv/lib/python3.10/site-packages (from pandas) (2.0.1)\r\n",
      "Requirement already satisfied: python-dateutil>=2.8.2 in /home/jrygl/PycharmProjects/sap-interview/.venv/lib/python3.10/site-packages (from pandas) (2.9.0.post0)\r\n",
      "Collecting pytz>=2020.1 (from pandas)\r\n",
      "  Obtaining dependency information for pytz>=2020.1 from https://files.pythonhosted.org/packages/11/c3/005fcca25ce078d2cc29fd559379817424e94885510568bc1bc53d7d5846/pytz-2024.2-py2.py3-none-any.whl.metadata\r\n",
      "  Downloading pytz-2024.2-py2.py3-none-any.whl.metadata (22 kB)\r\n",
      "Collecting tzdata>=2022.7 (from pandas)\r\n",
      "  Obtaining dependency information for tzdata>=2022.7 from https://files.pythonhosted.org/packages/a6/ab/7e5f53c3b9d14972843a647d8d7a853969a58aecc7559cb3267302c94774/tzdata-2024.2-py2.py3-none-any.whl.metadata\r\n",
      "  Downloading tzdata-2024.2-py2.py3-none-any.whl.metadata (1.4 kB)\r\n",
      "Requirement already satisfied: six>=1.5 in /home/jrygl/PycharmProjects/sap-interview/.venv/lib/python3.10/site-packages (from python-dateutil>=2.8.2->pandas) (1.16.0)\r\n",
      "Downloading pandas-2.2.3-cp310-cp310-manylinux_2_17_x86_64.manylinux2014_x86_64.whl (13.1 MB)\r\n",
      "\u001B[2K   \u001B[90m━━━━━━━━━━━━━━━━━━━━━━━━━━━━━━━━━━━━━━━━\u001B[0m \u001B[32m13.1/13.1 MB\u001B[0m \u001B[31m1.3 MB/s\u001B[0m eta \u001B[36m0:00:00\u001B[0m00:01\u001B[0m00:01\u001B[0m0m\r\n",
      "\u001B[?25hDownloading pytz-2024.2-py2.py3-none-any.whl (508 kB)\r\n",
      "\u001B[2K   \u001B[90m━━━━━━━━━━━━━━━━━━━━━━━━━━━━━━━━━━━━━━━━\u001B[0m \u001B[32m508.0/508.0 kB\u001B[0m \u001B[31m2.2 MB/s\u001B[0m eta \u001B[36m0:00:00\u001B[0ma \u001B[36m0:00:01\u001B[0m\r\n",
      "\u001B[?25hDownloading tzdata-2024.2-py2.py3-none-any.whl (346 kB)\r\n",
      "\u001B[2K   \u001B[90m━━━━━━━━━━━━━━━━━━━━━━━━━━━━━━━━━━━━━━━━\u001B[0m \u001B[32m346.6/346.6 kB\u001B[0m \u001B[31m1.6 MB/s\u001B[0m eta \u001B[36m0:00:00\u001B[0ma \u001B[36m0:00:01\u001B[0mm\r\n",
      "\u001B[?25hInstalling collected packages: pytz, tzdata, pandas\r\n",
      "Successfully installed pandas-2.2.3 pytz-2024.2 tzdata-2024.2\r\n",
      "\r\n",
      "\u001B[1m[\u001B[0m\u001B[34;49mnotice\u001B[0m\u001B[1;39;49m]\u001B[0m\u001B[39;49m A new release of pip is available: \u001B[0m\u001B[31;49m23.2.1\u001B[0m\u001B[39;49m -> \u001B[0m\u001B[32;49m24.2\u001B[0m\r\n",
      "\u001B[1m[\u001B[0m\u001B[34;49mnotice\u001B[0m\u001B[1;39;49m]\u001B[0m\u001B[39;49m To update, run: \u001B[0m\u001B[32;49mpip install --upgrade pip\u001B[0m\r\n"
     ]
    }
   ],
   "execution_count": 1
  },
  {
   "metadata": {
    "ExecuteTime": {
     "end_time": "2024-10-24T10:55:30.534522Z",
     "start_time": "2024-10-24T10:55:30.530332Z"
    }
   },
   "cell_type": "code",
   "source": [
    "import time\n",
    "\n",
    "def measure(f):\n",
    "    start = time.time()\n",
    "    f()\n",
    "    end = time.time()\n",
    "    print(f'Time elapsed: {end - start}')"
   ],
   "id": "de21639e0bf04607",
   "outputs": [],
   "execution_count": 9
  },
  {
   "metadata": {
    "ExecuteTime": {
     "end_time": "2024-10-24T10:55:30.924106Z",
     "start_time": "2024-10-24T10:55:30.921872Z"
    }
   },
   "cell_type": "code",
   "source": [
    "def m1():\n",
    "    df = pd.read_csv('downloaded_log.csv')\n",
    "    \n",
    "    # Compute the average of the 'costs' column\n",
    "    average_costs = df['costs'].mean()\n",
    "    \n",
    "    # Print the average\n",
    "    print(f'Average costs: {average_costs}')"
   ],
   "id": "d8b4da261acd68ee",
   "outputs": [],
   "execution_count": 10
  },
  {
   "metadata": {
    "ExecuteTime": {
     "end_time": "2024-10-24T10:59:51.852592Z",
     "start_time": "2024-10-24T10:59:51.850291Z"
    }
   },
   "cell_type": "code",
   "source": [
    "import csv\n",
    "\n",
    "def m2():\n",
    "    with open('downloaded_log.csv', 'r', encoding='utf-8') as file:\n",
    "        reader = csv.reader(file)\n",
    "        next(reader)\n",
    "        cost = 0\n",
    "        n = 0\n",
    "        for row in reader:\n",
    "            cost += float(row[-1])\n",
    "            n += 1\n",
    "        print(\"Average costs: %f:0.2\" % (cost / n))"
   ],
   "id": "78c349dc0a1eb1a",
   "outputs": [],
   "execution_count": 19
  },
  {
   "metadata": {
    "ExecuteTime": {
     "end_time": "2024-10-24T10:57:37.936952Z",
     "start_time": "2024-10-24T10:57:37.931901Z"
    }
   },
   "cell_type": "code",
   "source": [
    "import csv\n",
    "\n",
    "def m3():\n",
    "    with open('downloaded_log.csv', 'r', encoding='utf-8') as file:\n",
    "        cost = 0\n",
    "        n = 0\n",
    "        for i, line in enumerate(file):\n",
    "            if i == 0:\n",
    "                continue\n",
    "            cost += float(line.split(\",\")[-1].strip())   \n",
    "            n += 1\n",
    "        print(\"Average costs: %f:0.2\" % (cost / n))"
   ],
   "id": "80820b79cbc0ca86",
   "outputs": [],
   "execution_count": 16
  },
  {
   "metadata": {
    "ExecuteTime": {
     "end_time": "2024-10-24T10:59:51.849376Z",
     "start_time": "2024-10-24T10:59:23.073242Z"
    }
   },
   "cell_type": "code",
   "source": "measure(m1)",
   "id": "dd6294841b949f65",
   "outputs": [
    {
     "name": "stdout",
     "output_type": "stream",
     "text": [
      "Average costs: 505.4009845750017\n",
      "Time elapsed: 28.773446798324585\n"
     ]
    }
   ],
   "execution_count": 18
  },
  {
   "metadata": {
    "ExecuteTime": {
     "end_time": "2024-10-24T11:00:41.840375Z",
     "start_time": "2024-10-24T11:00:00.611589Z"
    }
   },
   "cell_type": "code",
   "source": "measure(m2)",
   "id": "e2d697df886e1f02",
   "outputs": [
    {
     "name": "stdout",
     "output_type": "stream",
     "text": [
      "Average costs: 505.400985:0.2\n",
      "Time elapsed: 41.226993560791016\n"
     ]
    }
   ],
   "execution_count": 20
  },
  {
   "metadata": {
    "ExecuteTime": {
     "end_time": "2024-10-24T11:01:08.965917Z",
     "start_time": "2024-10-24T11:00:44.682120Z"
    }
   },
   "cell_type": "code",
   "source": "measure(m3)",
   "id": "b1059830c5c70a54",
   "outputs": [
    {
     "name": "stdout",
     "output_type": "stream",
     "text": [
      "Average costs: 505.400985:0.2\n",
      "Time elapsed: 24.279964685440063\n"
     ]
    }
   ],
   "execution_count": 21
  },
  {
   "metadata": {},
   "cell_type": "code",
   "outputs": [],
   "execution_count": null,
   "source": "",
   "id": "fdccad7e670fe49e"
  }
 ],
 "metadata": {
  "kernelspec": {
   "display_name": "Python 3",
   "language": "python",
   "name": "python3"
  },
  "language_info": {
   "codemirror_mode": {
    "name": "ipython",
    "version": 2
   },
   "file_extension": ".py",
   "mimetype": "text/x-python",
   "name": "python",
   "nbconvert_exporter": "python",
   "pygments_lexer": "ipython2",
   "version": "2.7.6"
  }
 },
 "nbformat": 4,
 "nbformat_minor": 5
}
